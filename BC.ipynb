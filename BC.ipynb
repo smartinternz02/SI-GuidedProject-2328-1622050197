{
 "cells": [
  {
   "cell_type": "code",
   "execution_count": 1,
   "metadata": {},
   "outputs": [],
   "source": [
    "from tensorflow.keras.models import Sequential\n",
    "from tensorflow.keras.layers import Dense\n",
    "from tensorflow.keras.layers import Convolution2D\n",
    "from tensorflow.keras.layers import MaxPooling2D\n",
    "from tensorflow.keras.layers import Flatten"
   ]
  },
  {
   "cell_type": "code",
   "execution_count": 2,
   "metadata": {},
   "outputs": [],
   "source": [
    "from keras.preprocessing.image import ImageDataGenerator\n",
    "train_datagen =  ImageDataGenerator(rescale = 1./255,shear_range = 0.2,zoom_range = 0.2,horizontal_flip = True)\n",
    "test_datagen =  ImageDataGenerator(rescale = 1./255)"
   ]
  },
  {
   "cell_type": "code",
   "execution_count": 3,
   "metadata": {
    "scrolled": true
   },
   "outputs": [
    {
     "name": "stdout",
     "output_type": "stream",
     "text": [
      "Found 160 images belonging to 2 classes.\n",
      "Found 40 images belonging to 2 classes.\n"
     ]
    }
   ],
   "source": [
    "x_train = train_datagen.flow_from_directory(r\"C:\\Users\\Anju\\Downloads\\Breast Cancer\\train\",target_size = (128,128),batch_size = 32, class_mode =\"binary\")\n",
    "x_test = test_datagen.flow_from_directory(r\"C:\\Users\\Anju\\Downloads\\Breast Cancer\\test\",target_size = (128,128),batch_size = 32, class_mode =\"binary\")\n"
   ]
  },
  {
   "cell_type": "code",
   "execution_count": 4,
   "metadata": {},
   "outputs": [],
   "source": [
    "model = Sequential()"
   ]
  },
  {
   "cell_type": "code",
   "execution_count": 5,
   "metadata": {},
   "outputs": [],
   "source": [
    "model.add(Convolution2D(32,(3,3) ,input_shape = (128,128,3),activation = \"relu\"))"
   ]
  },
  {
   "cell_type": "code",
   "execution_count": 6,
   "metadata": {},
   "outputs": [],
   "source": [
    "model.add(MaxPooling2D(2,2))"
   ]
  },
  {
   "cell_type": "code",
   "execution_count": 7,
   "metadata": {},
   "outputs": [],
   "source": [
    "model.add(Flatten()) #input layer"
   ]
  },
  {
   "cell_type": "code",
   "execution_count": 8,
   "metadata": {},
   "outputs": [],
   "source": [
    "model.add(Dense(units = 512,activation = \"relu\",kernel_initializer = \"random_uniform\"))"
   ]
  },
  {
   "cell_type": "code",
   "execution_count": 9,
   "metadata": {},
   "outputs": [],
   "source": [
    "model.add(Dense(units = 1,activation = \"sigmoid\",kernel_initializer = \"random_uniform\"))"
   ]
  },
  {
   "cell_type": "code",
   "execution_count": 10,
   "metadata": {},
   "outputs": [],
   "source": [
    " model.compile(\"sgd\",loss = \"binary_crossentropy\",metrics= [\"accuracy\"])"
   ]
  },
  {
   "cell_type": "code",
   "execution_count": 12,
   "metadata": {},
   "outputs": [
    {
     "name": "stderr",
     "output_type": "stream",
     "text": [
      "C:\\Users\\Anju\\anaconda3\\lib\\site-packages\\tensorflow\\python\\keras\\engine\\training.py:1844: UserWarning: `Model.fit_generator` is deprecated and will be removed in a future version. Please use `Model.fit`, which supports generators.\n",
      "  warnings.warn('`Model.fit_generator` is deprecated and '\n"
     ]
    },
    {
     "name": "stdout",
     "output_type": "stream",
     "text": [
      "Epoch 1/25\n",
      "5/5 [==============================] - 6s 1s/step - loss: 1.7309 - accuracy: 0.5009 - val_loss: 0.6752 - val_accuracy: 0.4688\n",
      "Epoch 2/25\n",
      "5/5 [==============================] - 4s 877ms/step - loss: 0.5781 - accuracy: 0.6244 - val_loss: 0.4258 - val_accuracy: 0.8125\n",
      "Epoch 3/25\n",
      "5/5 [==============================] - 4s 871ms/step - loss: 0.5524 - accuracy: 0.6553 - val_loss: 0.3068 - val_accuracy: 1.0000\n",
      "Epoch 4/25\n",
      "5/5 [==============================] - 4s 865ms/step - loss: 0.3990 - accuracy: 0.8827 - val_loss: 0.4367 - val_accuracy: 0.6562\n",
      "Epoch 5/25\n",
      "5/5 [==============================] - 4s 862ms/step - loss: 0.4771 - accuracy: 0.6966 - val_loss: 0.2330 - val_accuracy: 1.0000\n",
      "Epoch 6/25\n",
      "5/5 [==============================] - 4s 879ms/step - loss: 0.3798 - accuracy: 0.8862 - val_loss: 0.2257 - val_accuracy: 1.0000\n",
      "Epoch 7/25\n",
      "5/5 [==============================] - 4s 875ms/step - loss: 0.2820 - accuracy: 0.9239 - val_loss: 0.1393 - val_accuracy: 1.0000\n",
      "Epoch 8/25\n",
      "5/5 [==============================] - 4s 876ms/step - loss: 0.2602 - accuracy: 0.9258 - val_loss: 0.2644 - val_accuracy: 0.9062\n",
      "Epoch 9/25\n",
      "5/5 [==============================] - 5s 900ms/step - loss: 0.2860 - accuracy: 0.8662 - val_loss: 0.2071 - val_accuracy: 0.9375\n",
      "Epoch 10/25\n",
      "5/5 [==============================] - 4s 869ms/step - loss: 0.5336 - accuracy: 0.7607 - val_loss: 0.1676 - val_accuracy: 1.0000\n",
      "Epoch 11/25\n",
      "5/5 [==============================] - 4s 889ms/step - loss: 0.2697 - accuracy: 0.9326 - val_loss: 0.1806 - val_accuracy: 1.0000\n",
      "Epoch 12/25\n",
      "5/5 [==============================] - 5s 909ms/step - loss: 0.2896 - accuracy: 0.8996 - val_loss: 0.1059 - val_accuracy: 1.0000\n",
      "Epoch 13/25\n",
      "5/5 [==============================] - 5s 960ms/step - loss: 0.2115 - accuracy: 0.9485 - val_loss: 0.1034 - val_accuracy: 1.0000\n",
      "Epoch 14/25\n",
      "5/5 [==============================] - 5s 941ms/step - loss: 0.2310 - accuracy: 0.9444 - val_loss: 0.0932 - val_accuracy: 1.0000\n",
      "Epoch 15/25\n",
      "5/5 [==============================] - 5s 932ms/step - loss: 0.2395 - accuracy: 0.9359 - val_loss: 0.0809 - val_accuracy: 1.0000\n",
      "Epoch 16/25\n",
      "5/5 [==============================] - 5s 942ms/step - loss: 0.2865 - accuracy: 0.9012 - val_loss: 0.1075 - val_accuracy: 1.0000\n",
      "Epoch 17/25\n",
      "5/5 [==============================] - 5s 1s/step - loss: 0.2422 - accuracy: 0.9319 - val_loss: 0.0867 - val_accuracy: 1.0000\n",
      "Epoch 18/25\n",
      "5/5 [==============================] - 5s 946ms/step - loss: 0.2355 - accuracy: 0.9519 - val_loss: 0.1138 - val_accuracy: 1.0000\n",
      "Epoch 19/25\n",
      "5/5 [==============================] - 5s 940ms/step - loss: 0.2377 - accuracy: 0.9168 - val_loss: 0.0879 - val_accuracy: 1.0000\n",
      "Epoch 20/25\n",
      "5/5 [==============================] - 5s 928ms/step - loss: 0.2585 - accuracy: 0.9234 - val_loss: 0.1095 - val_accuracy: 1.0000\n",
      "Epoch 21/25\n",
      "5/5 [==============================] - 5s 960ms/step - loss: 0.2396 - accuracy: 0.9425 - val_loss: 0.1036 - val_accuracy: 1.0000\n",
      "Epoch 22/25\n",
      "5/5 [==============================] - 5s 974ms/step - loss: 0.2324 - accuracy: 0.9371 - val_loss: 0.0626 - val_accuracy: 1.0000\n",
      "Epoch 23/25\n",
      "5/5 [==============================] - 5s 932ms/step - loss: 0.2054 - accuracy: 0.9487 - val_loss: 0.0727 - val_accuracy: 1.0000\n",
      "Epoch 24/25\n",
      "5/5 [==============================] - 5s 941ms/step - loss: 0.1876 - accuracy: 0.9590 - val_loss: 0.0864 - val_accuracy: 1.0000\n",
      "Epoch 25/25\n",
      "5/5 [==============================] - 5s 959ms/step - loss: 0.2097 - accuracy: 0.9574 - val_loss: 0.0841 - val_accuracy: 1.0000\n"
     ]
    },
    {
     "data": {
      "text/plain": [
       "<tensorflow.python.keras.callbacks.History at 0x25f8b598dc0>"
      ]
     },
     "execution_count": 12,
     "metadata": {},
     "output_type": "execute_result"
    }
   ],
   "source": [
    "model.fit_generator(x_train ,steps_per_epoch = 5 ,epochs = 25,validation_data= x_test , validation_steps = 1)"
   ]
  },
  {
   "cell_type": "code",
   "execution_count": 13,
   "metadata": {},
   "outputs": [],
   "source": [
    "model.save(\"BC.h5\")"
   ]
  },
  {
   "cell_type": "code",
   "execution_count": null,
   "metadata": {},
   "outputs": [],
   "source": []
  }
 ],
 "metadata": {
  "kernelspec": {
   "display_name": "Python 3",
   "language": "python",
   "name": "python3"
  },
  "language_info": {
   "codemirror_mode": {
    "name": "ipython",
    "version": 3
   },
   "file_extension": ".py",
   "mimetype": "text/x-python",
   "name": "python",
   "nbconvert_exporter": "python",
   "pygments_lexer": "ipython3",
   "version": "3.8.3"
  }
 },
 "nbformat": 4,
 "nbformat_minor": 4
}
